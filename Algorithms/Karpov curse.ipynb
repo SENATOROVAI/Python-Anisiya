{
 "cells": [
  {
   "cell_type": "code",
   "execution_count": null,
   "metadata": {},
   "outputs": [],
   "source": [
    "#https://lab.karpov.courses/learning/243/module/2453/lesson/23851/68535/328952/\n",
    "text = a[:-2]\n",
    "number = int(a[-1])\n",
    "result = f'<{text}></{text}>' * number\n",
    "result\n",
    "\n"
   ]
  },
  {
   "cell_type": "markdown",
   "metadata": {},
   "source": [
    "# ===================================="
   ]
  },
  {
   "cell_type": "code",
   "execution_count": null,
   "metadata": {},
   "outputs": [],
   "source": [
    "#https://lab.karpov.courses/learning/243/module/2453/lesson/23854/68777/329288/\n",
    "import math\n",
    "\n",
    "if f == 'S':\n",
    "    perimeter = 4 * v\n",
    "    result = perimeter\n",
    "elif f == 'C':\n",
    "    circumference = 2 * math.pi * v\n",
    "    result = circumference\n",
    "else:\n",
    "    result = None\n",
    "\n",
    "# не понимаю как исправить ошибку"
   ]
  },
  {
   "cell_type": "code",
   "execution_count": null,
   "metadata": {},
   "outputs": [],
   "source": [
    "#https://lab.karpov.courses/learning/243/module/2453/lesson/23855/68546/331881/\n",
    "coffee_grams = coffee * 1000  \n",
    "milk_milliliters = milk * 1000  \n",
    "coffee_per_cup = input()\n",
    "\n",
    "espresso_cups = coffee_grams // coffee_per_cup  \n",
    "latte_cups = espresso_cups // 5   \n",
    "cappuccino_cups = espresso_cups // 3   \n",
    "\n",
    " \n",
    "if milk_milliliters >= latte_cups * milk_per_latte:\n",
    "    visitors = espresso_cups\n",
    "else: \n",
    "    visitors = espresso_cups - (latte_cups - milk_milliliters // milk_per_latte)\n",
    "\n",
    "#EOF when reading a line"
   ]
  },
  {
   "cell_type": "code",
   "execution_count": null,
   "metadata": {},
   "outputs": [],
   "source": [
    "#https://lab.karpov.courses/learning/243/module/2453/lesson/23855/68546/331882/\n",
    "result = [False] \n",
    "digits = list(str(n))  \n",
    "for i in range(1, len(digits)):\n",
    "    if int(digits[i]) % int(digits[i-1]) == 0:\n",
    "        result.append(True)\n",
    "    else:\n",
    "        result.append(False)\n",
    "#Ошибка: integer division or modulo by zero"
   ]
  },
  {
   "cell_type": "code",
   "execution_count": null,
   "metadata": {},
   "outputs": [],
   "source": [
    "#https://lab.karpov.courses/learning/243/module/2453/lesson/23855/68546/331944/\n",
    "students_order = [(i+1, name) for i, name in enumerate(sorted(students.keys())) if students[name] > 90]\n",
    "\n",
    "\n",
    "#Тест, на котором получена ошибка\n",
    "\n",
    "#students = {'Рахманинов': 92, 'Пушкин': 70, 'Бальзак': 70, 'Маск': 91}\n",
    "\n",
    "#Ваш ответ\n",
    "#students_order = [(2, 'Маск'), (4, 'Рахманинов')]\n",
    "\n",
    "#Правильный ответ\n",
    "#students_order = [(1, 'Маск'), (2, 'Рахманинов')]"
   ]
  },
  {
   "cell_type": "code",
   "execution_count": null,
   "metadata": {},
   "outputs": [],
   "source": [
    "#https://lab.karpov.courses/learning/243/module/2453/lesson/23855/68546/332915/\n",
    "my_string = 'qircxfcgwxeciscwgwvzlfrciclibecpfvqzg'\n",
    "secret_dict = {'b': 'k','c': ' ','g': 'n','q': 'h','z': 'o','v': 't','w': 'a','f': 'y','x': 'm','r': ','}\n",
    "\n",
    "decrypted_string = ''.join(secret_dict.get(char, char) for char in my_string)\n",
    "\n",
    "\n",
    "#Тест, на котором получена ошибка\n",
    "\n",
    "#secret_dict = {'v': 'w', 'x': 'y', 'i': 'h', 'q': 'l', 'c': 'n', 'b': 'a', 'f': 'r', 'j': 'o', 's': 'e', 'z': 't', 'g': 'k'}\n",
    "#my_string = zis jqd qbdx qjjgsd bcd zjm fbc bvbx\n",
    "\n",
    "#Ваш ответ\n",
    "#decrypted_string = hmi na none ms onotleai m emke yathln\n",
    "\n",
    "#Правильный ответ\n",
    "#decrypted_string = the old lady looked and tom ran away"
   ]
  },
  {
   "cell_type": "code",
   "execution_count": null,
   "metadata": {},
   "outputs": [],
   "source": [
    "#https://lab.karpov.courses/learning/243/module/2453/lesson/23855/68546/331888/\n",
    "result = all(a == -b for a, b in zip(lst_1, lst_2))\n",
    "\n",
    "\n",
    "#Ошибка: bad operand type for unary -: 'str'"
   ]
  },
  {
   "cell_type": "code",
   "execution_count": null,
   "metadata": {},
   "outputs": [],
   "source": [
    "#https://lab.karpov.courses/learning/243/module/2453/lesson/23852/68537/332934/\n",
    "def reverse_tuple(lst):\n",
    "    unique_elements = list(set(lst))  # Получаем уникальные элементы списка\n",
    "    unique_elements.reverse()  # Разворачиваем список\n",
    "    return tuple(unique_elements)  # Преобразуем список в кортеж и возвращаем его\n",
    "\n",
    "\n",
    "#Тест, на котором получена ошибка\n",
    "\n",
    "#reverse_tuple([4, 5, 3, 5, 5, 6, 1, 3])\n",
    "\n",
    "#Ваша функция вернула\n",
    "#(6, 5, 4, 3, 1)\n",
    "\n",
    "#Правильный ответ\n",
    "#(3, 1, 6, 5, 4)"
   ]
  }
 ],
 "metadata": {
  "kernelspec": {
   "display_name": "conda_venv",
   "language": "python",
   "name": "python3"
  },
  "language_info": {
   "codemirror_mode": {
    "name": "ipython",
    "version": 3
   },
   "file_extension": ".py",
   "mimetype": "text/x-python",
   "name": "python",
   "nbconvert_exporter": "python",
   "pygments_lexer": "ipython3",
   "version": "3.11.4"
  }
 },
 "nbformat": 4,
 "nbformat_minor": 2
}
