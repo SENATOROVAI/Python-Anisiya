{
 "cells": [
  {
   "cell_type": "code",
   "execution_count": null,
   "metadata": {},
   "outputs": [],
   "source": [
    "#https://lab.karpov.courses/learning/243/module/2453/lesson/23847/68526/319653/\n",
    "#a = input() # это вводить не надо. Посмотри внимательно начало курса где расказывается принцип работы с платформой\n",
    "с = int(a.split('.')[0]) # Желтым горит. Походу русское с\n",
    "c = int(a.split('.')[0])# во это проходит\n",
    "\n",
    "#выдаёт ошибку EOF when reading a line"
   ]
  },
  {
   "cell_type": "code",
   "execution_count": 19,
   "metadata": {},
   "outputs": [
    {
     "name": "stdout",
     "output_type": "stream",
     "text": [
      "optimal_sleep_duration = False\n"
     ]
    }
   ],
   "source": [
    "#https://lab.karpov.courses/learning/243/module/2453/lesson/23847/68526/319959/\n",
    "m = int(input())\n",
    "if  7 == m or m == 8 or m == 9:\n",
    "    print('optimal_sleep_duration =', True)\n",
    "else: \n",
    "    print('optimal_sleep_duration =', False)\n",
    "\n",
    "#также EOF when reading a line"
   ]
  },
  {
   "cell_type": "code",
   "execution_count": 6,
   "metadata": {},
   "outputs": [
    {
     "name": "stdout",
     "output_type": "stream",
     "text": [
      "result = False\n"
     ]
    }
   ],
   "source": [
    "#https://lab.karpov.courses/learning/243/module/2453/lesson/23847/68526/319982/\n",
    "x = int(input())\n",
    "if x%3 == 0 and x%7 == 0:\n",
    "    print('result','=',True)\n",
    "else:\n",
    "    print('result','=',False)\n",
    "\n",
    "#EOF when reading a line"
   ]
  }
 ],
 "metadata": {
  "kernelspec": {
   "display_name": "conda_venv",
   "language": "python",
   "name": "python3"
  },
  "language_info": {
   "codemirror_mode": {
    "name": "ipython",
    "version": 3
   },
   "file_extension": ".py",
   "mimetype": "text/x-python",
   "name": "python",
   "nbconvert_exporter": "python",
   "pygments_lexer": "ipython3",
   "version": "3.11.4"
  }
 },
 "nbformat": 4,
 "nbformat_minor": 2
}
