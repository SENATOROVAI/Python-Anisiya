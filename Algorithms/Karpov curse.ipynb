{
 "cells": [
  {
   "cell_type": "code",
   "execution_count": null,
   "metadata": {},
   "outputs": [],
   "source": [
    "#https://lab.karpov.courses/learning/243/module/2453/lesson/23851/68535/328952/\n",
    "text = a[:-2]\n",
    "number = int(a[-1])\n",
    "result = f'<{text}></{text}>' * number\n",
    "result\n",
    "\n"
   ]
  },
  {
   "cell_type": "markdown",
   "metadata": {},
   "source": [
    "# ===================================="
   ]
  },
  {
   "cell_type": "code",
   "execution_count": 1,
   "metadata": {},
   "outputs": [
    {
     "ename": "NameError",
     "evalue": "name 'f' is not defined",
     "output_type": "error",
     "traceback": [
      "\u001b[1;31m---------------------------------------------------------------------------\u001b[0m",
      "\u001b[1;31mNameError\u001b[0m                                 Traceback (most recent call last)",
      "Cell \u001b[1;32mIn[1], line 2\u001b[0m\n\u001b[0;32m      1\u001b[0m \u001b[38;5;66;03m#https://lab.karpov.courses/learning/243/module/2453/lesson/23854/68777/329288/\u001b[39;00m\n\u001b[1;32m----> 2\u001b[0m \u001b[38;5;28;01mif\u001b[39;00m \u001b[43mf\u001b[49m \u001b[38;5;241m==\u001b[39m \u001b[38;5;124m'\u001b[39m\u001b[38;5;124mS\u001b[39m\u001b[38;5;124m'\u001b[39m:\n\u001b[0;32m      3\u001b[0m     perimeter \u001b[38;5;241m=\u001b[39m \u001b[38;5;241m4\u001b[39m \u001b[38;5;241m*\u001b[39m v\n\u001b[0;32m      4\u001b[0m     result \u001b[38;5;241m=\u001b[39m \u001b[38;5;28mround\u001b[39m(perimeter,\u001b[38;5;241m2\u001b[39m) \n",
      "\u001b[1;31mNameError\u001b[0m: name 'f' is not defined"
     ]
    }
   ],
   "source": [
    "#https://lab.karpov.courses/learning/243/module/2453/lesson/23854/68777/329288/\n",
    "if f == 'S':\n",
    "    perimeter = 4 * v\n",
    "    result = round(perimeter,2) \n",
    "elif f == 'C':\n",
    "    circumference = 2 * 3.14 * v\n",
    "    result = round(circumference,2)\n",
    "else:\n",
    "    result = None"
   ]
  },
  {
   "cell_type": "code",
   "execution_count": null,
   "metadata": {},
   "outputs": [],
   "source": [
    "#https://lab.karpov.courses/learning/243/module/2453/lesson/23855/68546/331881/\n",
    "coffee *= 1000\n",
    "milk *= 1000\n",
    "visitors = 1\n",
    "\n",
    "while True:\n",
    "    if visitors % 3 == 0:\n",
    "        if milk >= 100 and coffee >= 7:\n",
    "            coffee -= 7\n",
    "            milk -= 100\n",
    "        else:\n",
    "            break\n",
    "    elif visitors % 5 == 0:\n",
    "        if milk >= 180 and coffee >= 7:\n",
    "            coffee -= 7\n",
    "            milk -= 180\n",
    "        else:\n",
    "            break\n",
    "    else:\n",
    "        if coffee >= 7:\n",
    "            coffee -= 7\n",
    "        else:\n",
    "            break\n",
    "    visitors += 1\n",
    "visitors -= 1\n",
    "\n"
   ]
  },
  {
   "cell_type": "code",
   "execution_count": null,
   "metadata": {},
   "outputs": [],
   "source": [
    "#https://lab.karpov.courses/learning/243/module/2453/lesson/23855/68546/331882/\n",
    "def check_divisibility(n):\n",
    "    n_str = str(n)\n",
    "    result = [False]\n",
    "\n",
    "    for i in range(1, len(n_str)):\n",
    "        if int(n_str[i-1]) != 0 and int(n_str[i]) % int(n_str[i-1]) == 0:\n",
    "            result.append(True)\n",
    "        else:\n",
    "            result.append(False)\n",
    "\n",
    "    return result\n",
    "\n",
    "result = check_divisibility(n)"
   ]
  },
  {
   "cell_type": "code",
   "execution_count": null,
   "metadata": {},
   "outputs": [],
   "source": [
    "#https://lab.karpov.courses/learning/243/module/2453/lesson/23855/68546/331944/\n",
    "qualified_students = [(name, score) for name, score in students.items() if score > 90]\n",
    "sorted_students = sorted(qualified_students, key=lambda x: x[0])\n",
    "students_order = [(i+1, name) for i, (name, score) in enumerate(sorted_students)]\n",
    "\n",
    "students_order"
   ]
  },
  {
   "cell_type": "code",
   "execution_count": null,
   "metadata": {},
   "outputs": [],
   "source": [
    "#https://lab.karpov.courses/learning/243/module/2453/lesson/23855/68546/332915/\n",
    "decrypted_string = ''.join(secret_dict.get(char, char) for char in my_string)\n"
   ]
  },
  {
   "cell_type": "code",
   "execution_count": null,
   "metadata": {},
   "outputs": [],
   "source": [
    "#https://lab.karpov.courses/learning/243/module/2453/lesson/23855/68546/331888/\n",
    "def are_opposite_lists(lst_1, lst_2):\n",
    "    result = all(x != y for x, y in zip(lst_1, lst_2))\n",
    "    return result\n",
    "\n",
    "result = (are_opposite_lists(lst_1, lst_2))"
   ]
  },
  {
   "cell_type": "code",
   "execution_count": 13,
   "metadata": {},
   "outputs": [],
   "source": [
    "#https://lab.karpov.courses/learning/243/module/2453/lesson/23852/68537/332934/\n",
    "from collections import OrderedDict\n",
    "\n",
    "def reverse_tuple(lst):\n",
    "    return tuple(OrderedDict((x, True) for x in lst[::-1]))"
   ]
  },
  {
   "cell_type": "markdown",
   "metadata": {},
   "source": [
    "# ===================================="
   ]
  },
  {
   "cell_type": "code",
   "execution_count": null,
   "metadata": {},
   "outputs": [],
   "source": [
    "#https://lab.karpov.courses/learning/243/module/2453/lesson/23855/68546/332920/\n",
    "is_two_power = True if (number % 2 == 0 or number == 1) and number != 0 else False"
   ]
  },
  {
   "cell_type": "code",
   "execution_count": null,
   "metadata": {},
   "outputs": [],
   "source": [
    "#https://lab.karpov.courses/learning/243/module/2453/lesson/24444/70058/305938/\n",
    "route = input()\n",
    "def calculate_distance(point1, point2):\n",
    "    return abs(point1[0] - point2[0]) + abs(point1[1] - point2[1])\n",
    "\n",
    "def find_nearest_location(current_location, locations):\n",
    "    min_distance = float('inf')\n",
    "    nearest_location = None\n",
    "    for location in locations:\n",
    "        distance = calculate_distance(current_location, location)\n",
    "        if distance < min_distance:\n",
    "            min_distance = distance\n",
    "            nearest_location = location\n",
    "    return nearest_location\n",
    "\n",
    "def create_route(courier_location, orders_location, city_map_list):\n",
    "    route = []\n",
    "    current_location = courier_location\n",
    "    remaining_locations = orders_location.copy()\n",
    "    \n",
    "    while remaining_locations:\n",
    "        nearest_location = find_nearest_location(current_location, remaining_locations)\n",
    "        route.append(nearest_location)\n",
    "        remaining_locations.remove(nearest_location)\n",
    "        current_location = nearest_location\n",
    "    \n",
    "    return route\n",
    "#Ошибка: EOF when reading a line"
   ]
  }
 ],
 "metadata": {
  "kernelspec": {
   "display_name": "conda_venv",
   "language": "python",
   "name": "python3"
  },
  "language_info": {
   "codemirror_mode": {
    "name": "ipython",
    "version": 3
   },
   "file_extension": ".py",
   "mimetype": "text/x-python",
   "name": "python",
   "nbconvert_exporter": "python",
   "pygments_lexer": "ipython3",
   "version": "3.10.9"
  }
 },
 "nbformat": 4,
 "nbformat_minor": 2
}
