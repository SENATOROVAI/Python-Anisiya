{
 "cells": [
  {
   "cell_type": "code",
   "execution_count": null,
   "metadata": {},
   "outputs": [],
   "source": [
    "#https://lab.karpov.courses/learning/243/module/2453/lesson/23851/68535/328952/\n",
    "text = a[:-2]\n",
"number = int(a[-1])\n",
"result = f'<{text}></{text}>' * number\n",
"result",
    "\n",
    "#ошибка:\n",
    "\n",
    "#Ваш ответ\n",
    "#<div></div>\n",
    "\n",
    "#Правильный ответ\n",
    "#<div></div><div></div>"
   ]
  }
 ],
 "metadata": {
  "kernelspec": {
   "display_name": "conda_venv",
   "language": "python",
   "name": "python3"
  },
  "language_info": {
   "codemirror_mode": {
    "name": "ipython",
    "version": 3
   },
   "file_extension": ".py",
   "mimetype": "text/x-python",
   "name": "python",
   "nbconvert_exporter": "python",
   "pygments_lexer": "ipython3",
   "version": "3.11.4"
  }
 },
 "nbformat": 4,
 "nbformat_minor": 2
}
