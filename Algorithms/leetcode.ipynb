{
 "cells": [
  {
   "cell_type": "code",
   "execution_count": 5,
   "metadata": {},
   "outputs": [
    {
     "data": {
      "text/plain": [
       "'SENATOROV'"
      ]
     },
     "execution_count": 5,
     "metadata": {},
     "output_type": "execute_result"
    }
   ],
   "source": [
    "class Car:\n",
    "    name = \"SENATOROV subscribe\"  # properties of class\n",
    "\n",
    "    def get_value(self, x):  # method of class\n",
    "        return x\n",
    "\n",
    "\n",
    "object1 = Car()  # creating a class object / creating instanse of a class\n",
    "object2 = Car()\n",
    "dir(object1)  # shows class attributes\n",
    "object1.name\n",
    "# object1.get_value(3)  # func_name + () => call func and passing arguments"
   ]
  },
  {
   "cell_type": "code",
   "execution_count": 19,
   "metadata": {},
   "outputs": [
    {
     "data": {
      "text/plain": [
       "'ayisina'"
      ]
     },
     "execution_count": 19,
     "metadata": {},
     "output_type": "execute_result"
    }
   ],
   "source": [
    "# num = int(input())\n",
    "\n",
    "num == 6  # return bool\n",
    "\n",
    "name = \"anisiya\"\n",
    "type(name)\n",
    "\n",
    "name[0]\n",
    "name[-2]  # index\n",
    "\n",
    "name[0:3]  # [start:stop:step] => (stop, step) => optional\n",
    "name[::2]\n",
    "name[::-1]  # reverse"
   ]
  },
  {
   "cell_type": "code",
   "execution_count": 22,
   "metadata": {},
   "outputs": [
    {
     "data": {
      "text/plain": [
       "True"
      ]
     },
     "execution_count": 22,
     "metadata": {},
     "output_type": "execute_result"
    }
   ],
   "source": [
    "# https://leetcode.com/problems/palindrome-number/submissions/\n",
    "\n",
    "\n",
    "class Solution:\n",
    "    def isPalindrome(self, x: int) -> bool:\n",
    "        return str(x) == str(x)[::-1]\n",
    "\n",
    "\n",
    "object1 = Solution()\n",
    "\n",
    "object1.isPalindrome(121)\n",
    "# отдай коммит и файл лога!!!"
   ]
  },
  {
   "cell_type": "code",
   "execution_count": null,
   "metadata": {},
   "outputs": [],
   "source": [
    "# https://leetcode.com/problems/number-of-good-pairs/\n",
    "class Solution:\n",
    "    def numIdenticalPairs(self, nums: List[int]) -> int:\n",
    "        count = 0\n",
    "        for i in range(len(nums)):\n",
    "            for j in range(i + 1, len(nums)):\n",
    "                if nums[i] == nums[j]:\n",
    "                    count += 1\n",
    "        return count\n",
    "\n",
    "\n",
    "# Remove class\n",
    "from typing import List, Dict\n",
    "\n",
    "\n",
    "def numIdenticalPairs(nums: List[int]) -> int:\n",
    "    count = 0\n",
    "    for i in range(len(nums)):\n",
    "        for j in range(i + 1, len(nums)):\n",
    "            if nums[i] == nums[j]:\n",
    "                count += 1\n",
    "    return count\n",
    "\n",
    "\n",
    "nums = [1, 2, 3, 1, 1, 3]\n",
    "numIdenticalPairs(nums)"
   ]
  },
  {
   "cell_type": "code",
   "execution_count": 5,
   "metadata": {},
   "outputs": [],
   "source": [
    "# https://leetcode.com/problems/convert-the-temperature/\n",
    "# Input: celsius = 36.50\n",
    "# Output: [309.65000,97.70000]\n",
    "\n",
    "\n",
    "class Solution:\n",
    "    def convertTemperature(self, celsius: float) -> [float]:\n",
    "        return [celsius + 273.15, celsius * 1.80 + 32.00]"
   ]
  },
  {
   "cell_type": "code",
   "execution_count": 3,
   "metadata": {},
   "outputs": [],
   "source": [
    "# https://leetcode.com/problems/find-the-maximum-achievable-number/description/\n",
    "class Solution:\n",
    "    def theMaximumAchievableX(self, num: int, t: int) -> int:\n",
    "        return num + 2 * t"
   ]
  },
  {
   "cell_type": "code",
   "execution_count": 4,
   "metadata": {},
   "outputs": [],
   "source": [
    "# https://leetcode.com/problems/smallest-even-multiple/submissions/\n",
    "class Solution:\n",
    "    def smallestEvenMultiple(self, n: int) -> int:\n",
    "        return n * (n % 2 + 1)"
   ]
  },
  {
   "cell_type": "code",
   "execution_count": 8,
   "metadata": {},
   "outputs": [],
   "source": [
    "# https://leetcode.com/problems/divisible-and-non-divisible-sums-difference/submissions/\n",
    "class Solution:\n",
    "    def differenceOfSums(self, n: int, m: int) -> int:\n",
    "        num1, num2 = 0, 0\n",
    "        for i in range(1, n + 1, 1):\n",
    "            if i % m != 0:\n",
    "                num1 += i\n",
    "            else:\n",
    "                num2 += i\n",
    "        return num1 - num2\n",
    "\n",
    "        # or\n",
    "\n",
    "\n",
    "class Solution:\n",
    "    def differenceOfSums(self, n: int, m: int) -> int:\n",
    "        return n * (n + 1) // 2 - n // m * (n // m + 1) // 2 * m * 2"
   ]
  },
  {
   "cell_type": "code",
   "execution_count": 24,
   "metadata": {},
   "outputs": [
    {
     "data": {
      "text/plain": [
       "0"
      ]
     },
     "execution_count": 24,
     "metadata": {},
     "output_type": "execute_result"
    }
   ],
   "source": [
    "# https://leetcode.com/problems/subtract-the-product-and-sum-of-digits-of-an-integer/\n",
    "class Solution:\n",
    "    def subtractProductAndSum(self, b: int) -> int:\n",
    "        n = list(str(b))\n",
    "        sum = 0\n",
    "        mult = 1\n",
    "        for i in n:\n",
    "            sum += int(i)\n",
    "            mult *= int(i)\n",
    "        return sum - mult\n",
    "\n",
    "\n",
    "object1 = Solution()\n",
    "object1.subtractProductAndSum(123)"
   ]
  },
  {
   "cell_type": "code",
   "execution_count": 6,
   "metadata": {},
   "outputs": [],
   "source": [
    "# https://leetcode.com/problems/add-two-integers/\n",
    "class Solution:\n",
    "    def sum(self, num1: int, num2: int) -> int:\n",
    "        return num1 + num2"
   ]
  },
  {
   "cell_type": "code",
   "execution_count": 22,
   "metadata": {},
   "outputs": [
    {
     "data": {
      "text/plain": [
       "2"
      ]
     },
     "execution_count": 22,
     "metadata": {},
     "output_type": "execute_result"
    }
   ],
   "source": [
    "# d = sorted(str(2932))\n",
    "# print(int(d[0] + d[2]) + int(d[1] + d[3]))\n",
    "sorted(str(2932))\n",
    "int(d[0])\n",
    "\n",
    "# разбор задачи\n",
    "help(sorted)\n",
    "\n",
    "for i in \"2932\":\n",
    "    print(i)\n",
    "\n",
    "n = iter(\"2932\")\n",
    "print(n.__next__())\n",
    "print(n.__next__())\n",
    "print(n.__next__())\n",
    "print(n.__next__())"
   ]
  },
  {
   "cell_type": "code",
   "execution_count": 41,
   "metadata": {},
   "outputs": [
    {
     "data": {
      "text/plain": [
       "16"
      ]
     },
     "execution_count": 41,
     "metadata": {},
     "output_type": "execute_result"
    }
   ],
   "source": [
    "# print(int(sorted(str(2932))[0]) + int(sorted(str(2932))[2]))\n",
    "# sorted(str(2932))[1] + int(sorted(str(2932))[3])\n",
    "# int(sorted(str(2932))[0])\n",
    "num = 2932\n",
    "(\n",
    "    int(sorted(str(num))[0])\n",
    "    + int(sorted(str(num))[2])\n",
    "    + int(sorted(str(num))[1])\n",
    "    + int(sorted(str(num))[3])\n",
    ")"
   ]
  },
  {
   "cell_type": "code",
   "execution_count": 52,
   "metadata": {},
   "outputs": [
    {
     "data": {
      "text/plain": [
       "52"
      ]
     },
     "execution_count": 52,
     "metadata": {},
     "output_type": "execute_result"
    }
   ],
   "source": [
    "# https://leetcode.com/problems/minimum-sum-of-four-digit-number-after-splitting-digits/\n",
    "int(sorted(str(num))[0] + sorted(str(num))[2]) + int(\n",
    "    sorted(str(num))[1] + sorted(str(num))[3]\n",
    ")"
   ]
  },
  {
   "cell_type": "code",
   "execution_count": 78,
   "metadata": {},
   "outputs": [
    {
     "data": {
      "text/plain": [
       "52"
      ]
     },
     "execution_count": 78,
     "metadata": {},
     "output_type": "execute_result"
    }
   ],
   "source": [
    "num = 2932\n",
    "return (\n",
    "    list(\n",
    "        map(\n",
    "            int,\n",
    "            (sorted(str(num))[i] + sorted(str(num))[j] for i, j in [(0, 2), (1, 3)]),\n",
    "        )\n",
    "    )[0]\n",
    "    + list(\n",
    "        map(\n",
    "            int,\n",
    "            (sorted(str(num))[i] + sorted(str(num))[j] for i, j in [(0, 2), (1, 3)]),\n",
    "        )\n",
    "    )[1]\n",
    ")"
   ]
  },
  {
   "cell_type": "code",
   "execution_count": 7,
   "metadata": {},
   "outputs": [],
   "source": [
    "# https://leetcode.com/problems/number-of-steps-to-reduce-a-number-to-zero/\n",
    "class Solution:\n",
    "    def numberOfSteps(self, num: int) -> int:\n",
    "        if num == 0:\n",
    "            return num\n",
    "        if num % 2 == 0:\n",
    "            return 1 + self.numberOfSteps(num // 2)\n",
    "        else:\n",
    "            return 1 + self.numberOfSteps(num - 1)"
   ]
  },
  {
   "cell_type": "code",
   "execution_count": 8,
   "metadata": {},
   "outputs": [],
   "source": [
    "# https://leetcode.com/problems/sum-multiples/\n",
    "class Solution:\n",
    "    def sumOfMultiples(self, n: int) -> int:\n",
    "        s = []\n",
    "        for i in range(n + 1):\n",
    "            if i % 3 == 0 or i % 5 == 0 or i % 7 == 0:\n",
    "                s.append(i)\n",
    "        return sum(s)"
   ]
  },
  {
   "cell_type": "code",
   "execution_count": null,
   "metadata": {},
   "outputs": [],
   "source": [
    "# https://leetcode.com/problems/minimum-sum-of-four-digit-number-after-splitting-digits/\n",
    "class Solution:\n",
    "    def minimumSum(self, num: int) -> int:\n",
    "        return (\n",
    "            list(\n",
    "                map(\n",
    "                    int,\n",
    "                    (\n",
    "                        sorted(str(num))[i] + sorted(str(num))[j]\n",
    "                        for i, j in [(0, 2), (1, 3)]\n",
    "                    ),\n",
    "                )\n",
    "            )[0]\n",
    "            + list(\n",
    "                map(\n",
    "                    int,\n",
    "                    (\n",
    "                        sorted(str(num))[i] + sorted(str(num))[j]\n",
    "                        for i, j in [(0, 2), (1, 3)]\n",
    "                    ),\n",
    "                )\n",
    "            )[1]\n",
    "        )"
   ]
  },
  {
   "cell_type": "code",
   "execution_count": 11,
   "metadata": {},
   "outputs": [],
   "source": [
    "# https://leetcode.com/problems/difference-between-element-sum-and-digit-sum-of-an-array/\n",
    "class Solution:\n",
    "    def differenceOfSum(self, nums: [int]) -> int:\n",
    "        sum1 = sum(nums)\n",
    "        sum2 = 0\n",
    "        for i in nums:\n",
    "            for j in str(i):\n",
    "                sum2 += int(j)\n",
    "        return abs(sum1 - sum2)"
   ]
  },
  {
   "cell_type": "code",
   "execution_count": null,
   "metadata": {},
   "outputs": [],
   "source": [
    "# https://leetcode.com/problems/count-the-digits-that-divide-a-number/submissions/\n",
    "class Solution:\n",
    "    def countDigits(self, num: int) -> int:\n",
    "        count = 0\n",
    "        a = str(num)\n",
    "        for i in a:\n",
    "            if num % int(i) == 0:\n",
    "                count += 1\n",
    "            else:\n",
    "                count += 0\n",
    "        return count"
   ]
  },
  {
   "cell_type": "code",
   "execution_count": 13,
   "metadata": {},
   "outputs": [],
   "source": [
    "# https://leetcode.com/problems/sum-of-all-odd-length-subarrays/submissions/\n",
    "class Solution:\n",
    "    def sumOddLengthSubarrays(self, arr: [int]) -> int:\n",
    "        a = []\n",
    "        for i in range(0, len(arr)):\n",
    "            for j in range(i + 1, len(arr) + 1):\n",
    "                if (j - i) % 2 != 0:\n",
    "                    a.append(sum(arr[i:j]))\n",
    "        return sum(a)"
   ]
  },
  {
   "cell_type": "code",
   "execution_count": 15,
   "metadata": {},
   "outputs": [],
   "source": [
    "# https://leetcode.com/problems/sum-of-all-odd-length-subarrays/submissions/\n",
    "class Solution:\n",
    "    def sumOddLengthSubarrays(self, arr: [int]) -> int:\n",
    "        a = []\n",
    "        for i in range(0, len(arr)):\n",
    "            for j in range(i + 1, len(arr) + 1):\n",
    "                if (j - i) % 2 != 0:\n",
    "                    a.append(sum(arr[i:j]))\n",
    "        return sum(a)"
   ]
  },
  {
   "cell_type": "code",
   "execution_count": null,
   "metadata": {},
   "outputs": [],
   "source": [
    "# https://leetcode.com/problems/xor-operation-in-an-array/submissions/\n",
    "class Solution:\n",
    "    def xorOperation(self, n: int, start: int) -> int:\n",
    "        xor = 0\n",
    "        for i in range(n):\n",
    "            xor = xor ^ start\n",
    "            start += 2\n",
    "        return xor"
   ]
  },
  {
   "cell_type": "code",
   "execution_count": null,
   "metadata": {},
   "outputs": [],
   "source": [
    "# https://leetcode.com/problems/minimum-time-visiting-all-points/submissions/\n",
    "class Solution:\n",
    "    def minTimeToVisitAllPoints(self, points: List[List[int]]) -> int:\n",
    "        a = 0\n",
    "        for i in range(len(points) - 1):\n",
    "            x1, y1 = points[i]\n",
    "            x2, y2 = points[i + 1]\n",
    "            a += max(abs(x2 - x1), abs(y2 - y1))\n",
    "        return a"
   ]
  },
  {
   "cell_type": "code",
   "execution_count": null,
   "metadata": {},
   "outputs": [],
   "source": [
    "# https://leetcode.com/problems/maximum-69-number/description/\n",
    "class Solution:\n",
    "    def maximum69Number(self, num: int) -> int:\n",
    "        return int(str(num).replace(\"6\", \"9\", 1))"
   ]
  },
  {
   "cell_type": "code",
   "execution_count": null,
   "metadata": {},
   "outputs": [],
   "source": [
    "# https://leetcode.com/problems/find-the-pivot-integer/description/\n",
    "class Solution:\n",
    "    def pivotInteger(self, n: int) -> int:\n",
    "        a = n * (n + 1) // 2\n",
    "        b = 0\n",
    "        for i in range(1, n + 1):\n",
    "            a -= i\n",
    "            if b == a:\n",
    "                return i\n",
    "            b += i\n",
    "        return -1"
   ]
  },
  {
   "cell_type": "code",
   "execution_count": null,
   "metadata": {},
   "outputs": [],
   "source": [
    "# https://leetcode.com/problems/number-of-common-factors/submissions/\n",
    "class Solution:\n",
    "    def commonFactors(self, a: int, b: int) -> int:\n",
    "        count = 0\n",
    "        if max(a, b) % min(a, b) == 0:\n",
    "            count += 1\n",
    "        for i in range(1, (min(a, b) // 2) + 1):\n",
    "            if a % i == 0 and b % i == 0:\n",
    "                count += 1\n",
    "        return count"
   ]
  },
  {
   "cell_type": "code",
   "execution_count": null,
   "metadata": {},
   "outputs": [],
   "source": [
    "# https://leetcode.com/problems/a-number-after-a-double-reversal/\n",
    "class Solution:\n",
    "    def isSameAfterReversals(self, num: int) -> bool:\n",
    "        if len(str(num)) > 1 and str(num)[-1] == \"0\":\n",
    "            return False\n",
    "        else:\n",
    "            return True"
   ]
  },
  {
   "cell_type": "code",
   "execution_count": null,
   "metadata": {},
   "outputs": [],
   "source": [
    "# https://leetcode.com/problems/calculate-delayed-arrival-time/submissions/\n",
    "class Solution:\n",
    "    def findDelayedArrivalTime(self, arrivalTime: int, delayedTime: int) -> int:\n",
    "        s = arrivalTime + delayedTime\n",
    "        if s < 24:\n",
    "            return s\n",
    "        else:\n",
    "            return (arrivalTime + delayedTime) % 24\n",
    "\n",
    "            # OR\n",
    "\n",
    "\n",
    "class Solution:\n",
    "    def findDelayedArrivalTime(self, arrivalTime: int, delayedTime: int) -> int:\n",
    "        return (arrivalTime + delayedTime) % 24"
   ]
  },
  {
   "cell_type": "code",
   "execution_count": null,
   "metadata": {},
   "outputs": [],
   "source": [
    "# https://leetcode.com/problems/self-dividing-numbers/submissions/\n",
    "class Solution:\n",
    "    def selfDividingNumbers(self, left: int, right: int) -> List[int]:\n",
    "        def selfdivision(n):\n",
    "            s_n = str(n)\n",
    "            for char in s_n:\n",
    "                if char == \"0\":\n",
    "                    return False\n",
    "                if n % int(char) != 0:\n",
    "                    return False\n",
    "            return True\n",
    "\n",
    "        res = []\n",
    "        for n in range(left, right + 1):\n",
    "            if selfdivision(n):\n",
    "                res.append(n)\n",
    "        return res"
   ]
  },
  {
   "cell_type": "code",
   "execution_count": null,
   "metadata": {},
   "outputs": [],
   "source": [
    "# https://leetcode.com/problems/calculate-money-in-leetcode-bank/submissions/\n",
    "class Solution:\n",
    "    def totalMoney(self, n: int) -> int:\n",
    "        res = 0\n",
    "        i = 1\n",
    "        j = 0\n",
    "        count = 1\n",
    "        while j < n:\n",
    "            res += i\n",
    "            if i == 7 + count - 1:\n",
    "                count += 1\n",
    "                i = count\n",
    "            else:\n",
    "                i += 1\n",
    "            j += 1\n",
    "        return res"
   ]
  },
  {
   "cell_type": "code",
   "execution_count": null,
   "metadata": {},
   "outputs": [],
   "source": [
    "# https://leetcode.com/problems/determine-color-of-a-chessboard-square/submissions/\n",
    "class Solution:\n",
    "    def squareIsWhite(self, coordinates: str) -> bool:\n",
    "        g = \"abcdefghijklmnopqrstuvwxyz\"\n",
    "        if g.index(coordinates[0]) % 2 == 0:\n",
    "            if int(coordinates[1]) % 2 == 0:\n",
    "                return True\n",
    "            else:\n",
    "                return False\n",
    "        else:\n",
    "            if int(coordinates[1]) % 2 == 0:\n",
    "                return False\n",
    "            else:\n",
    "                return True"
   ]
  },
  {
   "cell_type": "code",
   "execution_count": null,
   "metadata": {},
   "outputs": [],
   "source": [
    "# https://leetcode.com/problems/sum-of-all-subset-xor-totals/submissions/\n",
    "class Solution:\n",
    "    def subsetXORSum(self, nums: List[int]) -> int:\n",
    "        n = len(nums)\n",
    "        a = 0\n",
    "        for i in range(n):\n",
    "            a |= nums[i]\n",
    "        return a * (1 << (n - 1))"
   ]
  }
 ],
 "metadata": {
  "kernelspec": {
   "display_name": "conda_venv",
   "language": "python",
   "name": "python3"
  },
  "language_info": {
   "codemirror_mode": {
    "name": "ipython",
    "version": 3
   },
   "file_extension": ".py",
   "mimetype": "text/x-python",
   "name": "python",
   "nbconvert_exporter": "python",
   "pygments_lexer": "ipython3",
   "version": "3.11.4"
  },
  "orig_nbformat": 4
 },
 "nbformat": 4,
 "nbformat_minor": 2
}
