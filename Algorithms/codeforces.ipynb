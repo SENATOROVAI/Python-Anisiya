{
 "cells": [
  {
   "cell_type": "code",
   "execution_count": null,
   "metadata": {},
   "outputs": [
    {
     "name": "stdout",
     "output_type": "stream",
     "text": [
      "no\n"
     ]
    }
   ],
   "source": [
    "#https://codeforces.com/problemset/problem/4/A\n",
    "\n",
    "num = int(input())\n",
    "if num % 2 == 0 and num != 2:\n",
    "    print(\"yes\")\n",
    "else:\n",
    "    print(\"no\")\n"
   ]
  },
  {
   "cell_type": "code",
   "execution_count": null,
   "metadata": {},
   "outputs": [
    {
     "ename": "TypeError",
     "evalue": "can't multiply sequence by non-int of type 'str'",
     "output_type": "error",
     "traceback": [
      "\u001b[1;31m---------------------------------------------------------------------------\u001b[0m",
      "\u001b[1;31mTypeError\u001b[0m                                 Traceback (most recent call last)",
      "Cell \u001b[1;32mIn[3], line 5\u001b[0m\n\u001b[0;32m      3\u001b[0m n, m \u001b[39m=\u001b[39m \u001b[39minput\u001b[39m()\u001b[39m.\u001b[39msplit()  \u001b[39m# input() - by default data type => str\u001b[39;00m\n\u001b[0;32m      4\u001b[0m \u001b[39m# print(n * m // 2)\u001b[39;00m\n\u001b[1;32m----> 5\u001b[0m \u001b[39mprint\u001b[39m(n \u001b[39m*\u001b[39;49m m \u001b[39m/\u001b[39m\u001b[39m/\u001b[39m \u001b[39m2\u001b[39m)\n",
      "\u001b[1;31mTypeError\u001b[0m: can't multiply sequence by non-int of type 'str'"
     ]
    }
   ],
   "source": [
    "# https://codeforces.com/problemset/problem/50/A\n",
    "\n",
    "n, m = map(int, input().split()) # что значит split и map и что они делают? --map-это функция. Она принимает две и более функций и перебирает каждое значение в итерируемом объекте.; split-встроенный, строковый метод(к сожалению, этот метод я не изучала и почти не работала с ним, это всё, что я о нём знаю).\n",
    "n, m = input().split()  # input() - by default data type => str\n",
    "# print(n * m // 2)\n",
    "print(n * m // 2)"
   ]
  },
  {
   "cell_type": "code",
   "execution_count": null,
   "metadata": {},
   "outputs": [],
   "source": [
    "#https://codeforces.com/problemset/problem/71/A\n",
    "n = int(input())     \n",
    "for i in range(n):\n",
    "    a = input()      \n",
    "    if len(a) > 10:  # что значит len и что оно делает? --Это функция. Она находит длину строки\n",
    "        b = a[0]     \n",
    "        c = a[-1]    \n",
    "        d = a[1:-2]  \n",
    "        a = b + str(len(d)+1) + c       \n",
    "    print(a) \n"
   ]
  },
  {
   "cell_type": "code",
   "execution_count": null,
   "metadata": {},
   "outputs": [],
   "source": [
    "#https://codeforces.com/problemset/problem/546/A\n",
    "k, n, w = map(int, input().split())\n",
    "result = (k * ((w * (w + 1)) / 2)) - n\n",
    "if result < 0:\n",
    "  print(\"0\")\n",
    "else:\n",
    "  print(int(result))    "
   ]
  },
  {
   "cell_type": "code",
   "execution_count": null,
   "metadata": {},
   "outputs": [],
   "source": [
    "#https://codeforces.com/problemset/problem/617/A\n",
    "x = int(input())\n",
    "print((x + 4) // 5)"
   ]
  },
  {
   "cell_type": "code",
   "execution_count": null,
   "metadata": {},
   "outputs": [],
   "source": [
    "#https://codeforces.com/problemset/problem/486/A\n",
    "n = int(input())\n",
    "if n % 2 == 0:\n",
    "    print(n // 2)\n",
    "else:\n",
    "    print(-((n+1)//2))"
   ]
  },
  {
   "cell_type": "code",
   "execution_count": null,
   "metadata": {},
   "outputs": [],
   "source": [
    "#https://codeforces.com/problemset/problem/1328/A\n",
    "number = int(input())\n",
    "count = 0\n",
    "for i in range(number):\n",
    "    a, b = map(int, input().split())\n",
    "    if a % b == 0:\n",
    "        print(0)\n",
    "    else:\n",
    "        count = b - a % b\n",
    "        print(count)"
   ]
  },
  {
   "cell_type": "code",
   "execution_count": null,
   "metadata": {},
   "outputs": [],
   "source": [
    "#https://codeforces.com/problemset/problem/148/A\n",
    "k = int(input())\n",
    "l = int(input())\n",
    "m = int(input())\n",
    "n = int(input())\n",
    "d = int(input())\n",
    "result = 0\n",
    "for i in range(1, d + 1):\n",
    "    if any(i % x == 0 for x in [k, l, m, n]):\n",
    "        result += 1\n",
    "print(result)"
   ]
  },
  {
   "cell_type": "code",
   "execution_count": null,
   "metadata": {},
   "outputs": [],
   "source": [
    "#https://codeforces.com/problemset/problem/750/A\n",
    "n, k = map(int, input().split())\n",
    "max_time = 240\n",
    "can_solve = 0 \n",
    "for i in range(1, n+1):\n",
    "    if k + i * 5  <= max_time:\n",
    "        k += i * 5 \n",
    "        can_solve += 1\n",
    "    else:\n",
    "        break\n",
    "print(can_solve)"
   ]
  },
  {
   "cell_type": "code",
   "execution_count": 3,
   "metadata": {},
   "outputs": [],
   "source": [
    "#https://codeforces.com/problemset/problem/1352/A\n",
    "n = int(input())\n",
    "for i in range(n):\n",
    "    c = int(input())\n",
    "    i = 1\n",
    "    ar = []\n",
    "    j = 0\n",
    "    while c!=0:\n",
    "        r = c%10\n",
    "        if r != 0:\n",
    "            ar.append(r*i)\n",
    "            j += 1\n",
    "        i *= 10\n",
    "        c = c//10\n",
    "    print(j)\n",
    "    print(\" \".join(map(str,ar)))"
   ]
  },
  {
   "cell_type": "code",
   "execution_count": null,
   "metadata": {},
   "outputs": [],
   "source": [
    "#https://codeforces.com/problemset/problem/723/A\n",
    "p = list(map(int, input().split(' ')))\n",
    "p.sort()\n",
    "p\n",
    "place = (p[2] - p[1]) + (p[1] - p[0])\n",
    "print(place)"
   ]
  },
  {
   "cell_type": "code",
   "execution_count": 1,
   "metadata": {},
   "outputs": [],
   "source": [
    "#https://codeforces.com/problemset/problem/581/A\n",
    "#solve1\n",
    "a,b=sorted(map(int,input().split()));print(a,(b-a)//2) #как это работает?\n",
    "#solve2\n",
    "a,b=[int(i)for i in input().split()] #list comprihensions\n",
    "cnt=0\n",
    "while a>0 and b>0:\n",
    "    cnt+=1\n",
    "    a-=1\n",
    "    b-=1\n",
    "print(cnt, end=' ')\n",
    "cnt=0\n",
    "while a>0 or b>0:\n",
    "    a-=2\n",
    "    b-=2\n",
    "    if a<0 and b<0:break\n",
    "    cnt+=1\n",
    "print(cnt)\n",
    "#solve3\n",
    "t = list(map(int,input().split()))\n",
    "a = t[0]\n",
    "b = t[1]\n",
    "x = min(a,b)\n",
    "y = (max(a,b) - x) // 2\n",
    "print(x,y)"
   ]
  },
  {
   "cell_type": "code",
   "execution_count": null,
   "metadata": {},
   "outputs": [],
   "source": [
    "#https://codeforces.com/problemset/problem/581/A\n",
    "a,b=sorted(map(int,input().split()));print(a,(b-a)//2)"
   ]
  },
  {
   "cell_type": "code",
   "execution_count": null,
   "metadata": {},
   "outputs": [],
   "source": [
    "#https://codeforces.com/problemset/problem/732/A\n",
    "n,k = map(int, input().split())\n",
    "s=1\n",
    "d = n\n",
    "while (n%10!=k and n%10!=0):\n",
    "    n+=d\n",
    "    s+=1\n",
    "print(s)"
   ]
  },
  {
   "cell_type": "code",
   "execution_count": null,
   "metadata": {},
   "outputs": [],
   "source": [
    "#https://codeforces.com/problemset/problem/1154/A\n",
    "a,b,c,d=sorted(map(int,input().split()))\n",
    "print(d-a,d-b,d-c)"
   ]
  },
  {
   "cell_type": "code",
   "execution_count": null,
   "metadata": {},
   "outputs": [],
   "source": [
    "#https://codeforces.com/problemset/problem/151/A\n",
    "    n,k,l,c,d,p,nl,np=list(map(int,input().split()))\n",
    "    a=[]\n",
    "    a.append((k * l) // nl)\n",
    "    a.append(c * d)\n",
    "    a.append(p // np)\n",
    "    print(min(a) // n)"
   ]
  }
 ],
 "metadata": {
  "kernelspec": {
   "display_name": "conda_venv",
   "language": "python",
   "name": "python3"
  },
  "language_info": {
   "codemirror_mode": {
    "name": "ipython",
    "version": 3
   },
   "file_extension": ".py",
   "mimetype": "text/x-python",
   "name": "python",
   "nbconvert_exporter": "python",
   "pygments_lexer": "ipython3",
   "version": "3.11.4"
  },
  "orig_nbformat": 4
 },
 "nbformat": 4,
 "nbformat_minor": 2
}
