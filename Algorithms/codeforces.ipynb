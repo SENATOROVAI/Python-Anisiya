{
 "cells": [
  {
   "cell_type": "code",
   "execution_count": null,
   "metadata": {},
   "outputs": [
    {
     "name": "stdout",
     "output_type": "stream",
     "text": [
      "no\n"
     ]
    }
   ],
   "source": [
    "# https://codeforces.com/problemset/problem/4/A\n",
    "\n",
    "num = int(input())  # переменная num принимает целое число\n",
    "if num % 2 == 0 and num != 2:  # если число в переменной num чётное и не равно 2:\n",
    "    print(\"yes\")  # вывести yes\n",
    "else:  # иначе\n",
    "    print(\"no\")  # вывести no"
   ]
  },
  {
   "cell_type": "code",
   "execution_count": 2,
   "metadata": {},
   "outputs": [
    {
     "name": "stdout",
     "output_type": "stream",
     "text": [
      "4\n"
     ]
    }
   ],
   "source": [
    "# https://codeforces.com/problemset/problem/50/A\n",
    "\n",
    "a, b = map(\n",
    "    int, input().split()\n",
    ")  # функция map принимает два целых числа, метод split() разделяет строку на список подстрок по разделителю\n",
    "print(\n",
    "    a * b // 2\n",
    ")  # выводит отношение числа a и b, результат которого поделён на два с отбрасыванием остатка (оставляет только целую часть)"
   ]
  },
  {
   "cell_type": "code",
   "execution_count": null,
   "metadata": {},
   "outputs": [],
   "source": [
    "# https://codeforces.com/problemset/problem/71/A\n",
    "n = int(input())  # переменная n принимает целое число\n",
    "for i in range(n):  # переменная i будет пробегать по числу в радиусе переменной n\n",
    "    a = input()  # создана переменная a\n",
    "    if len(a) > 10:  # если длина вводимой строки в переменной a больше 10:\n",
    "        b = a[0]  # в переменной b будет лежать значение переменной a с индексом 0\n",
    "        c = a[-1]  # в переменной c будет лежать переменная a с последним значением\n",
    "        d = a[\n",
    "            1:-2\n",
    "        ]  # в переменной d будет лежать срез переменной a со значения с индексом 1 до значения с индексом -2\n",
    "        a = (\n",
    "            b + str(len(d) + 1) + c\n",
    "        )  # переменная a = сумме переменной b с длиной переменной d к которой прибавлена 1-ца и с переменной c\n",
    "    print(a)  # выводит переменную a"
   ]
  },
  {
   "cell_type": "code",
   "execution_count": 1,
   "metadata": {},
   "outputs": [
    {
     "name": "stdout",
     "output_type": "stream",
     "text": [
      "178\n"
     ]
    }
   ],
   "source": [
    "# https://codeforces.com/problemset/problem/546/A\n",
    "k, n, w = map(\n",
    "    int, input().split()\n",
    ")  # функция map принимает три целых числа, метод split() разделяет строку на список подстрок по разделителю\n",
    "result = (\n",
    "    k * ((w * (w + 1)) / 2)\n",
    ") - n  # в переменной result хранится разница числа k умноженного на половину произведения числа w на сумму числа w и 1, и числа n\n",
    "if result < 0:  # если число, которое хранится в переменной result больше 0:\n",
    "    print(\"0\")  # выводит 0\n",
    "else:  # иначе\n",
    "    print(int(result))  # выводит число из переменной result целым"
   ]
  },
  {
   "cell_type": "code",
   "execution_count": null,
   "metadata": {},
   "outputs": [],
   "source": [
    "# https://codeforces.com/problemset/problem/617/A\n",
    "x = int(input())  # переменная x принимает целое число\n",
    "print((x + 4) // 5)  # выводит сумму чисел x и 4 деленённых на 5 с отбрасыванием остатка"
   ]
  },
  {
   "cell_type": "code",
   "execution_count": null,
   "metadata": {},
   "outputs": [],
   "source": [
    "# https://codeforces.com/problemset/problem/486/A\n",
    "n = int(input())  # переменная n принимает целое число\n",
    "if n % 2 == 0:  # если число n кратно 2:\n",
    "    print(n // 2)  # выводит число n делённое на 2 с отбрасыванием остатка\n",
    "else:  # иначе\n",
    "    print(\n",
    "        -((n + 1) // 2)\n",
    "    )  # выводит произведение -1 и суммы числа n с 1 поделённых на 2 с отбрасыванием остатка"
   ]
  },
  {
   "cell_type": "code",
   "execution_count": null,
   "metadata": {},
   "outputs": [],
   "source": [
    "# https://codeforces.com/problemset/problem/1328/A\n",
    "number = int(input())\n",
    "count = 0\n",
    "for i in range(number):\n",
    "    a, b = map(int, input().split())\n",
    "    if a % b == 0:\n",
    "        print(0)\n",
    "    else:\n",
    "        count = b - a % b\n",
    "        print(count)"
   ]
  },
  {
   "cell_type": "code",
   "execution_count": null,
   "metadata": {},
   "outputs": [],
   "source": [
    "# https://codeforces.com/problemset/problem/148/A\n",
    "k = int(input())\n",
    "l = int(input())\n",
    "m = int(input())\n",
    "n = int(input())\n",
    "d = int(input())\n",
    "result = 0\n",
    "for i in range(1, d + 1):\n",
    "    if any(i % x == 0 for x in [k, l, m, n]):\n",
    "        result += 1\n",
    "print(result)"
   ]
  },
  {
   "cell_type": "code",
   "execution_count": null,
   "metadata": {},
   "outputs": [],
   "source": [
    "# https://codeforces.com/problemset/problem/750/A\n",
    "n, k = map(int, input().split())\n",
    "max_time = 240\n",
    "can_solve = 0\n",
    "for i in range(1, n + 1):\n",
    "    if k + i * 5 <= max_time:\n",
    "        k += i * 5\n",
    "        can_solve += 1\n",
    "    else:\n",
    "        break\n",
    "print(can_solve)"
   ]
  },
  {
   "cell_type": "code",
   "execution_count": 3,
   "metadata": {},
   "outputs": [],
   "source": [
    "# https://codeforces.com/problemset/problem/1352/A\n",
    "n = int(input())\n",
    "for i in range(n):\n",
    "    c = int(input())\n",
    "    i = 1\n",
    "    ar = []\n",
    "    j = 0\n",
    "    while c != 0:\n",
    "        r = c % 10\n",
    "        if r != 0:\n",
    "            ar.append(r * i)\n",
    "            j += 1\n",
    "        i *= 10\n",
    "        c = c // 10\n",
    "    print(j)\n",
    "    print(\" \".join(map(str, ar)))"
   ]
  },
  {
   "cell_type": "code",
   "execution_count": null,
   "metadata": {},
   "outputs": [],
   "source": [
    "# https://codeforces.com/problemset/problem/723/A\n",
    "p = list(map(int, input().split(\" \")))\n",
    "p.sort()\n",
    "p\n",
    "place = (p[2] - p[1]) + (p[1] - p[0])\n",
    "print(place)"
   ]
  },
  {
   "cell_type": "code",
   "execution_count": 1,
   "metadata": {},
   "outputs": [],
   "source": [
    "# https://codeforces.com/problemset/problem/581/A\n",
    "# solve1\n",
    "a, b = sorted(map(int, input().split()))\n",
    "print(a, (b - a) // 2)  # как это работает?\n",
    "# solve2\n",
    "a, b = [int(i) for i in input().split()]  # list comprihensions\n",
    "cnt = 0\n",
    "while a > 0 and b > 0:\n",
    "    cnt += 1\n",
    "    a -= 1\n",
    "    b -= 1\n",
    "print(cnt, end=\" \")\n",
    "cnt = 0\n",
    "while a > 0 or b > 0:\n",
    "    a -= 2\n",
    "    b -= 2\n",
    "    if a < 0 and b < 0:\n",
    "        break\n",
    "    cnt += 1\n",
    "print(cnt)\n",
    "# solve3\n",
    "t = list(map(int, input().split()))\n",
    "a = t[0]\n",
    "b = t[1]\n",
    "x = min(a, b)\n",
    "y = (max(a, b) - x) // 2\n",
    "print(x, y)"
   ]
  },
  {
   "cell_type": "code",
   "execution_count": null,
   "metadata": {},
   "outputs": [],
   "source": [
    "# https://codeforces.com/problemset/problem/581/A\n",
    "a, b = sorted(map(int, input().split()))\n",
    "print(a, (b - a) // 2)"
   ]
  },
  {
   "cell_type": "code",
   "execution_count": null,
   "metadata": {},
   "outputs": [],
   "source": [
    "# https://codeforces.com/problemset/problem/732/A\n",
    "n, k = map(int, input().split())\n",
    "s = 1\n",
    "d = n\n",
    "while n % 10 != k and n % 10 != 0:\n",
    "    n += d\n",
    "    s += 1\n",
    "print(s)"
   ]
  },
  {
   "cell_type": "code",
   "execution_count": null,
   "metadata": {},
   "outputs": [],
   "source": [
    "# https://codeforces.com/problemset/problem/1154/A\n",
    "a, b, c, d = sorted(map(int, input().split()))\n",
    "print(d - a, d - b, d - c)"
   ]
  },
  {
   "cell_type": "code",
   "execution_count": 3,
   "metadata": {},
   "outputs": [
    {
     "ename": "IndentationError",
     "evalue": "unexpected indent (1180386743.py, line 2)",
     "output_type": "error",
     "traceback": [
      "\u001b[1;36m  Cell \u001b[1;32mIn[3], line 2\u001b[1;36m\u001b[0m\n\u001b[1;33m    n,k,l,c,d,p,nl,np=list(map(int,input().split()))\u001b[0m\n\u001b[1;37m    ^\u001b[0m\n\u001b[1;31mIndentationError\u001b[0m\u001b[1;31m:\u001b[0m unexpected indent\n"
     ]
    }
   ],
   "source": [
    "#https://codeforces.com/problemset/problem/151/A\n",
    "    n,k,l,c,d,p,nl,np=list(map(int,input().split()))\n",
    "    a=[]\n",
    "    a.append((k * l) // nl)\n",
    "    a.append(c * d)\n",
    "    a.append(p // np)\n",
    "    print(min(a) // n)"
   ]
  },
  {
   "cell_type": "code",
   "execution_count": null,
   "metadata": {},
   "outputs": [],
   "source": [
    "# https://codeforces.com/problemset/problem/1409/A\n",
    "for s in [*open(0)][1:]:\n",
    "    print(0 - abs(eval(s.replace(\" \", \"-\"))) // -10)"
   ]
  },
  {
   "cell_type": "code",
   "execution_count": null,
   "metadata": {},
   "outputs": [],
   "source": [
    "# https://codeforces.com/problemset/submit\n",
    "n = int(input())\n",
    "if n % 2 == 0:\n",
    "    print(n - 8, 8)\n",
    "else:\n",
    "    print(n - 9, 9)"
   ]
  },
  {
   "cell_type": "code",
   "execution_count": null,
   "metadata": {},
   "outputs": [],
   "source": [
    "# https://codeforces.com/problemset/problem/758/A\n",
    "n = int(input())\n",
    "s = input().split()\n",
    "s = [int(x) for x in s]\n",
    "c = 0\n",
    "for i in range(n):\n",
    "    c += max(s) - s[i]\n",
    "print(c)"
   ]
  },
  {
   "cell_type": "code",
   "execution_count": null,
   "metadata": {},
   "outputs": [],
   "source": [
    "# s=int(input())\n",
    "for i in range(s):\n",
    "    n = int(input())\n",
    "    if (n // 2) % 2 == 1:\n",
    "        print(\"NO\")\n",
    "    else:\n",
    "        print(\"YES\")\n",
    "        for j in range(n // 2):\n",
    "            print(2 * (j + 1))\n",
    "        for j in range(n // 2 - 1):\n",
    "            print(2 * (j + 1) - 1)\n",
    "        print(n - 1 + n // 2)"
   ]
  }
 ],
 "metadata": {
  "kernelspec": {
   "display_name": "conda_venv",
   "language": "python",
   "name": "python3"
  },
  "language_info": {
   "codemirror_mode": {
    "name": "ipython",
    "version": 3
   },
   "file_extension": ".py",
   "mimetype": "text/x-python",
   "name": "python",
   "nbconvert_exporter": "python",
   "pygments_lexer": "ipython3",
   "version": "3.11.4"
  },
  "orig_nbformat": 4
 },
 "nbformat": 4,
 "nbformat_minor": 2
}
