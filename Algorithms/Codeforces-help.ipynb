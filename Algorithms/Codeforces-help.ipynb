{
 "cells": [
  {
   "cell_type": "markdown",
   "metadata": {},
   "source": [
    "# https://codeforces.com/problemset/problem/1409/A"
   ]
  },
  {
   "cell_type": "code",
   "execution_count": null,
   "metadata": {},
   "outputs": [],
   "source": [
    "#solve1\n",
    "for s in[*open(0)][1:]:print(0-abs(eval(s.replace(' ','-')))//-10) # Зачем нужна *\n",
    "# без * возвращает ссылку на объект, а не сам объект\n",
    "\n"
   ]
  },
  {
   "cell_type": "code",
   "execution_count": 7,
   "metadata": {},
   "outputs": [],
   "source": [
    "for s in[*open(0)][1:]: # переменная s будет пробегать по вводимой строке в которой функция принимает ноль или более аргументов, которые доступны внутри функции в виде кортежа и берёт значение с индексом 0 со срезом, который берёт значения начиная с 1 индекса и до конца списка\n",
    "    print(0-abs(eval(s.replace(' ','-')))//-10) # выводит разницу 0 и модуля значения делённого на -10 с отбрасыванием остатка, которое заключено в метод eval() - анализирующее выражение, переданное этому методу, и запускающее выражение (code), в котором в списке s заменяется пробел на -  "
   ]
  },
  {
   "cell_type": "code",
   "execution_count": 3,
   "metadata": {},
   "outputs": [],
   "source": [
    "[*open(0)][1:]"
   ]
  },
  {
   "cell_type": "code",
   "execution_count": 1,
   "metadata": {},
   "outputs": [
    {
     "name": "stdout",
     "output_type": "stream",
     "text": [
      "[2, 3, 'fgh', 'er5']\n"
     ]
    }
   ],
   "source": [
    "print([1, 2, 3, 'fgh', 'er5'][1:])"
   ]
  },
  {
   "cell_type": "code",
   "execution_count": 5,
   "metadata": {},
   "outputs": [],
   "source": [
    "import builtins\n",
    "stdin = builtins.open(0)\n",
    "for line in stdin:\n",
    "    print(line)"
   ]
  },
  {
   "cell_type": "code",
   "execution_count": null,
   "metadata": {},
   "outputs": [],
   "source": [
    "\n",
    "#solve2\n",
    "n = int(input())\n",
    "while (n>0):\n",
    "    n=n-1\n",
    "    s = input().split()\n",
    "    a = [int(x) for x in s]\n",
    "    res=abs(a[0]-a[1])/10\n",
    "    if (abs(a[0]-a[1])%10 != 0):\n",
    "        res=res+1\n",
    "    print(int(res),flush=True)\n"
   ]
  },
  {
   "cell_type": "code",
   "execution_count": null,
   "metadata": {},
   "outputs": [],
   "source": [
    "#solve3\n",
    "for i in range(int(input())):\n",
    "    b, a = map(int,input().split())\n",
    "    raz = abs(a-b)\n",
    "    rj=[]\n",
    "    if raz%10 == 0:\n",
    "        rj.append(raz//10)\n",
    "    else:\n",
    "        rj.append(raz//10 + 1)\n",
    "    print(rj.pop())"
   ]
  },
  {
   "cell_type": "markdown",
   "metadata": {},
   "source": [
    "# https://codeforces.com/problemset/submit"
   ]
  },
  {
   "cell_type": "code",
   "execution_count": null,
   "metadata": {},
   "outputs": [],
   "source": [
    "#solve1\n",
    "_=int(input());print(Z:=8+_%2,_-Z)"
   ]
  },
  {
   "cell_type": "code",
   "execution_count": null,
   "metadata": {},
   "outputs": [],
   "source": [
    "#solve2\n",
    "def design(num):\n",
    "    if (num % 2 == 1):\n",
    "        print(9, num - 9)\n",
    "    else:\n",
    "        print(8, num - 8)\n",
    "n = int(input())\n",
    "design(n)"
   ]
  },
  {
   "cell_type": "code",
   "execution_count": null,
   "metadata": {},
   "outputs": [],
   "source": [
    "#solve3\n",
    "n=int(input())\n",
    "if n%2==0:\n",
    "\tprint(n-8,8)\n",
    "else:\n",
    "\tprint(n-9,9)"
   ]
  },
  {
   "cell_type": "markdown",
   "metadata": {},
   "source": [
    "# https://codeforces.com/problemset/problem/758/A"
   ]
  },
  {
   "cell_type": "code",
   "execution_count": null,
   "metadata": {},
   "outputs": [],
   "source": [
    "#solve1\n",
    "n=int(input())\n",
    "*l,=map(int,input().split())\n",
    "print(n*max(l)-sum(l))"
   ]
  },
  {
   "cell_type": "code",
   "execution_count": null,
   "metadata": {},
   "outputs": [],
   "source": [
    "#solve2\n",
    "n = int(input())\n",
    "lst = list(map(int, input().split()))\n",
    "lst.sort()\n",
    "sum=0\n",
    "for i in range(n):\n",
    "    sum=sum+lst[n-1]-lst[i]\n",
    "print(sum)"
   ]
  },
  {
   "cell_type": "code",
   "execution_count": null,
   "metadata": {},
   "outputs": [],
   "source": [
    "#solve3\n",
    "n = int(input())\n",
    "s = input().split()\n",
    "s = [int(x) for x in s]\n",
    "c = 0\n",
    "for i in range(n):\n",
    "    c += max(s) - s[i]\n",
    "print(c)"
   ]
  },
  {
   "cell_type": "markdown",
   "metadata": {},
   "source": [
    "# "
   ]
  },
  {
   "cell_type": "code",
   "execution_count": null,
   "metadata": {},
   "outputs": [],
   "source": [
    "#solve1\n",
    "for s in[*open(0)][1:]:n=int(s);print(*n%4and['NO']or['YES']+[*range(2,n+1,2)]+[n+n//2-1]+[*range(1,n-1,2)])"
   ]
  },
  {
   "cell_type": "code",
   "execution_count": null,
   "metadata": {},
   "outputs": [],
   "source": [
    "#solve2\n",
    "t=int(input())\n",
    "for i in range (t):\n",
    "    n=int(input())\n",
    "    n=n//2\n",
    "    if n%2==1:\n",
    "        print('NO')\n",
    "    else:\n",
    "        print('YES')\n",
    "        a=[0]*(2*n)\n",
    "        j=2\n",
    "        for i in range(0, n, 2):\n",
    "            a[i]=j\n",
    "            a[i+1]=j+2\n",
    "            a[n+i]=a[i]-1\n",
    "            a[n+i+1]=a[i+1]+1\n",
    "            j+=6\n",
    "        for i in range (2*n):\n",
    "            print(a[i], end=' ')\n",
    "        print()"
   ]
  },
  {
   "cell_type": "code",
   "execution_count": null,
   "metadata": {},
   "outputs": [],
   "source": [
    "#solve3\n",
    "s=int(input())\n",
    "for i in range(s):\n",
    "    n=int(input())\n",
    "    if (n//2)%2==1:\n",
    "        print('NO')\n",
    "    else:\n",
    "        print('YES')\n",
    "        for j in range(n//2):\n",
    "            print(2*(j+1))\n",
    "        for j in range(n//2-1):\n",
    "            print(2*(j+1)-1)\n",
    "        print(n-1+n//2)"
   ]
  }
 ],
 "metadata": {
  "kernelspec": {
   "display_name": "conda_venv",
   "language": "python",
   "name": "python3"
  },
  "language_info": {
   "codemirror_mode": {
    "name": "ipython",
    "version": 3
   },
   "file_extension": ".py",
   "mimetype": "text/x-python",
   "name": "python",
   "nbconvert_exporter": "python",
   "pygments_lexer": "ipython3",
   "version": "3.11.4"
  }
 },
 "nbformat": 4,
 "nbformat_minor": 2
}
