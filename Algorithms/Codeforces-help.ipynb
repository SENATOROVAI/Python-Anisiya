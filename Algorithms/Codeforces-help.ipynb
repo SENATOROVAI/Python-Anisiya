{
 "cells": [
  {
   "cell_type": "markdown",
   "metadata": {},
   "source": [
    "# https://codeforces.com/problemset/problem/1409/A"
   ]
  },
  {
   "cell_type": "code",
   "execution_count": null,
   "metadata": {},
   "outputs": [],
   "source": [
    "#solve1\n",
    "for s in[*open(0)][1:]:print(0-abs(eval(s.replace(' ','-')))//-10)\n",
    "\n"
   ]
  },
  {
   "cell_type": "code",
   "execution_count": null,
   "metadata": {},
   "outputs": [],
   "source": [
    "\n",
    "#solve2\n",
    "n = int(input())\n",
    "while (n>0):\n",
    "    n=n-1\n",
    "    s = input().split()\n",
    "    a = [int(x) for x in s]\n",
    "    res=abs(a[0]-a[1])/10\n",
    "    if (abs(a[0]-a[1])%10 != 0):\n",
    "        res=res+1\n",
    "    print(int(res),flush=True)\n"
   ]
  },
  {
   "cell_type": "code",
   "execution_count": null,
   "metadata": {},
   "outputs": [],
   "source": [
    "#solve3\n",
    "for i in range(int(input())):\n",
    "    b, a = map(int,input().split())\n",
    "    raz = abs(a-b)\n",
    "    rj=[]\n",
    "    if raz%10 == 0:\n",
    "        rj.append(raz//10)\n",
    "    else:\n",
    "        rj.append(raz//10 + 1)\n",
    "    print(rj.pop())"
   ]
  }
 ],
 "metadata": {
  "language_info": {
   "name": "python"
  }
 },
 "nbformat": 4,
 "nbformat_minor": 2
}
