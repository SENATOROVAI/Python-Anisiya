{
 "cells": [
  {
   "cell_type": "code",
   "execution_count": null,
   "metadata": {},
   "outputs": [],
   "source": [
    "def input1(str, num=\"1\") -> str:  # def - keyword for creat function\n",
    "    \"\"\"\n",
    "    keyword name_func(parameters):\n",
    "        code\n",
    "\n",
    "    name_func(arguments / sometimes parameters)\n",
    "    \"\"\"\n",
    "    return f\"str:{str}, num: {num}\"  # f'text {variable}' => f - string\n",
    "\n",
    "\n",
    "type(input1(4))  # arguments\n",
    "\n",
    "# (note) call function => name_func()\n",
    "\n",
    "# data type\n",
    "# 1) int - integer\n",
    "# 2) str - string"
   ]
  }
 ],
 "metadata": {
  "language_info": {
   "name": "python"
  },
  "orig_nbformat": 4
 },
 "nbformat": 4,
 "nbformat_minor": 2
}
