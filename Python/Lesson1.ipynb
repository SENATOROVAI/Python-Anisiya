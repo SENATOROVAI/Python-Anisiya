{
 "cells": [
  {
   "cell_type": "code",
   "execution_count": 1,
   "metadata": {
    "colab": {
     "base_uri": "https://localhost:8080/"
    },
    "executionInfo": {
     "elapsed": 12,
     "status": "ok",
     "timestamp": 1690015552790,
     "user": {
      "displayName": "Анисия Беляева",
      "userId": "08263213324465289120"
     },
     "user_tz": -180
    },
    "id": "uCSXoLfOxB5E",
    "outputId": "b4168773-f256-48e7-a202-bbf0cc0cfbdd"
   },
   "outputs": [
    {
     "name": "stdout",
     "output_type": "stream",
     "text": [
      "hello world\n"
     ]
    }
   ],
   "source": [
    "print(\"hello world\")  # print - это функция вывода на экран"
   ]
  },
  {
   "cell_type": "code",
   "execution_count": 2,
   "metadata": {
    "colab": {
     "base_uri": "https://localhost:8080/"
    },
    "executionInfo": {
     "elapsed": 282,
     "status": "ok",
     "timestamp": 1690015622731,
     "user": {
      "displayName": "Анисия Беляева",
      "userId": "08263213324465289120"
     },
     "user_tz": -180
    },
    "id": "EHVYxo2Sx40n",
    "outputId": "a1f6e888-cdd7-4ef0-8bc3-ba3ed645ea2e"
   },
   "outputs": [
    {
     "data": {
      "text/plain": [
       "2"
      ]
     },
     "execution_count": 2,
     "metadata": {},
     "output_type": "execute_result"
    }
   ],
   "source": [
    "1 + 1"
   ]
  },
  {
   "cell_type": "code",
   "execution_count": 3,
   "metadata": {
    "colab": {
     "base_uri": "https://localhost:8080/"
    },
    "executionInfo": {
     "elapsed": 373,
     "status": "ok",
     "timestamp": 1690015668522,
     "user": {
      "displayName": "Анисия Беляева",
      "userId": "08263213324465289120"
     },
     "user_tz": -180
    },
    "id": "Y5J-AEVSyAZF",
    "outputId": "d2a5a87b-1b2c-4578-8cfa-51b3105e8830"
   },
   "outputs": [
    {
     "data": {
      "text/plain": [
       "6"
      ]
     },
     "execution_count": 3,
     "metadata": {},
     "output_type": "execute_result"
    }
   ],
   "source": [
    "2 + 2 * 2"
   ]
  }
 ],
 "metadata": {
  "colab": {
   "authorship_tag": "ABX9TyNXIWdaIjgbRBPvx0TBmmf0",
   "provenance": []
  },
  "kernelspec": {
   "display_name": "Python 3",
   "name": "python3"
  },
  "language_info": {
   "codemirror_mode": {
    "name": "ipython",
    "version": 3
   },
   "file_extension": ".py",
   "mimetype": "text/x-python",
   "name": "python",
   "nbconvert_exporter": "python",
   "pygments_lexer": "ipython3",
   "version": "3.11.4"
  }
 },
 "nbformat": 4,
 "nbformat_minor": 0
}
