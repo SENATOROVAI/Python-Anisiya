{
 "cells": [
  {
   "cell_type": "markdown",
   "metadata": {},
   "source": [
    "pip - пакетный менеджер (удаляет и устонавливает зависимости-пакеты)\n",
    "пакет - набор модулей\n",
    "модуль - это файл с расширением .py\n"
   ]
  },
  {
   "cell_type": "code",
   "execution_count": null,
   "metadata": {
    "vscode": {
     "languageId": "plaintext"
    }
   },
   "outputs": [],
   "source": [
    "прогон репы на:\n",
    "1) mypy:\n",
    "   Terminal -> mypy(в строке) -> dir ->cd .(раздел репы) -> mypy .(то, что нужно прогнать)\n",
    "2) линтер(black):\n",
    "   Terminal -> black .(раздел репы)"
   ]
  },
  {
   "cell_type": "markdown",
   "metadata": {},
   "source": [
    "open(0) - принятие данных с клавиатуры"
   ]
  }
 ],
 "metadata": {
  "language_info": {
   "name": "python"
  }
 },
 "nbformat": 4,
 "nbformat_minor": 2
}
